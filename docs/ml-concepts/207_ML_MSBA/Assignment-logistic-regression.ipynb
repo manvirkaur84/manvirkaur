{
  "cells": [
    {
      "cell_type": "markdown",
      "metadata": {
        "id": "view-in-github",
        "colab_type": "text"
      },
      "source": [
        "<a href=\"https://colab.research.google.com/github/manvirkaur84/manvirkaur/blob/main/docs/ml-concepts/207_ML_MSBA/Assignment-logistic-regression.ipynb\" target=\"_parent\"><img src=\"https://colab.research.google.com/assets/colab-badge.svg\" alt=\"Open In Colab\"/></a>"
      ]
    },
    {
      "cell_type": "code",
      "source": [
        "!pip install dmba"
      ],
      "metadata": {
        "id": "xb-Ip6J7NNmO",
        "outputId": "92db085c-cbeb-4a45-ecc5-0b4dae8f0f2e",
        "colab": {
          "base_uri": "https://localhost:8080/"
        }
      },
      "id": "xb-Ip6J7NNmO",
      "execution_count": 19,
      "outputs": [
        {
          "output_type": "stream",
          "name": "stdout",
          "text": [
            "Requirement already satisfied: dmba in /usr/local/lib/python3.12/dist-packages (0.2.4)\n",
            "Requirement already satisfied: graphviz in /usr/local/lib/python3.12/dist-packages (from dmba) (0.21)\n",
            "Requirement already satisfied: matplotlib in /usr/local/lib/python3.12/dist-packages (from dmba) (3.10.0)\n",
            "Requirement already satisfied: numpy in /usr/local/lib/python3.12/dist-packages (from dmba) (2.0.2)\n",
            "Requirement already satisfied: pandas in /usr/local/lib/python3.12/dist-packages (from dmba) (2.2.2)\n",
            "Requirement already satisfied: scikit-learn in /usr/local/lib/python3.12/dist-packages (from dmba) (1.6.1)\n",
            "Requirement already satisfied: scipy in /usr/local/lib/python3.12/dist-packages (from dmba) (1.16.1)\n",
            "Requirement already satisfied: contourpy>=1.0.1 in /usr/local/lib/python3.12/dist-packages (from matplotlib->dmba) (1.3.3)\n",
            "Requirement already satisfied: cycler>=0.10 in /usr/local/lib/python3.12/dist-packages (from matplotlib->dmba) (0.12.1)\n",
            "Requirement already satisfied: fonttools>=4.22.0 in /usr/local/lib/python3.12/dist-packages (from matplotlib->dmba) (4.59.2)\n",
            "Requirement already satisfied: kiwisolver>=1.3.1 in /usr/local/lib/python3.12/dist-packages (from matplotlib->dmba) (1.4.9)\n",
            "Requirement already satisfied: packaging>=20.0 in /usr/local/lib/python3.12/dist-packages (from matplotlib->dmba) (25.0)\n",
            "Requirement already satisfied: pillow>=8 in /usr/local/lib/python3.12/dist-packages (from matplotlib->dmba) (11.3.0)\n",
            "Requirement already satisfied: pyparsing>=2.3.1 in /usr/local/lib/python3.12/dist-packages (from matplotlib->dmba) (3.2.3)\n",
            "Requirement already satisfied: python-dateutil>=2.7 in /usr/local/lib/python3.12/dist-packages (from matplotlib->dmba) (2.9.0.post0)\n",
            "Requirement already satisfied: pytz>=2020.1 in /usr/local/lib/python3.12/dist-packages (from pandas->dmba) (2025.2)\n",
            "Requirement already satisfied: tzdata>=2022.7 in /usr/local/lib/python3.12/dist-packages (from pandas->dmba) (2025.2)\n",
            "Requirement already satisfied: joblib>=1.2.0 in /usr/local/lib/python3.12/dist-packages (from scikit-learn->dmba) (1.5.2)\n",
            "Requirement already satisfied: threadpoolctl>=3.1.0 in /usr/local/lib/python3.12/dist-packages (from scikit-learn->dmba) (3.6.0)\n",
            "Requirement already satisfied: six>=1.5 in /usr/local/lib/python3.12/dist-packages (from python-dateutil>=2.7->matplotlib->dmba) (1.17.0)\n"
          ]
        }
      ]
    },
    {
      "cell_type": "code",
      "source": [
        "import sys\n",
        "import sklearn\n",
        "print(sys.version)\n",
        "print('The scikit-learn version is {}.'.format(sklearn.__version__))"
      ],
      "metadata": {
        "id": "bkt_2ibgNq3l",
        "outputId": "d1328b39-bd4d-40ff-82cb-79c9d501469e",
        "colab": {
          "base_uri": "https://localhost:8080/"
        }
      },
      "id": "bkt_2ibgNq3l",
      "execution_count": 20,
      "outputs": [
        {
          "output_type": "stream",
          "name": "stdout",
          "text": [
            "3.12.11 (main, Jun  4 2025, 08:56:18) [GCC 11.4.0]\n",
            "The scikit-learn version is 1.6.1.\n"
          ]
        }
      ]
    },
    {
      "cell_type": "code",
      "source": [
        "%matplotlib inline\n",
        "from pathlib import Path\n",
        "import numpy as np\n",
        "import pandas as pd\n",
        "from sklearn.linear_model import LogisticRegression, LogisticRegressionCV\n",
        "from sklearn.model_selection import train_test_split\n",
        "import statsmodels.api as sm\n",
        "import statsmodels.formula.api as smf\n",
        "import matplotlib.pylab as plt\n",
        "import seaborn as sns\n",
        "from dmba import classificationSummary, gainsChart, liftChart\n",
        "from dmba.metric import AIC_score\n",
        "import math\n",
        "\n",
        "DATA = Path('/content/sample_data/')"
      ],
      "metadata": {
        "id": "l62MkUDZNf2S"
      },
      "id": "l62MkUDZNf2S",
      "execution_count": 21,
      "outputs": []
    },
    {
      "cell_type": "code",
      "source": [
        "#Dicussion Assignment #1  - sklearn LogisticRegression() liblinear solver\n",
        "bank_df = pd.read_csv(DATA / 'UniversalBank.csv')\n",
        "bank_df.drop(columns=['ID', 'ZIP Code'], inplace=True)\n",
        "bank_df.columns = [c.replace(' ', '_') for c in bank_df.columns]\n",
        "bank_df\n",
        "\n",
        "# Treat education as categorical, convert to dummy variables\n",
        "bank_df['Education'] = bank_df['Education'].astype('category')\n",
        "new_categories = {1: 'Undergrad', 2: 'Graduate', 3: 'Advanced/Professional'}\n",
        "bank_df.Education.cat.rename_categories(new_categories)\n",
        "\n",
        "bank_df = pd.get_dummies(bank_df, prefix_sep='_', drop_first=True, dtype=int)\n",
        "\n",
        "y = bank_df['Personal_Loan']\n",
        "X = bank_df.drop(columns=['Personal_Loan'])\n",
        "\n",
        "# partition data\n",
        "train_X, valid_X, train_y, valid_y = train_test_split(X, y, test_size=0.4, random_state=1)\n",
        "\n",
        "# fit a logistic regression (set penalty=l2 and C=1e42 to avoid regularization)\n",
        "# see https://scikit-learn.org/stable/modules/generated/sklearn.linear_model.LogisticRegression.html\n",
        "# see https://scikit-learn.org/stable/modules/linear_model.html#logistic-regression\n",
        "logit_reg = LogisticRegression(penalty=\"l2\", C=1e42, solver='liblinear')\n",
        "logit_reg.fit(train_X, train_y)\n",
        "\n",
        "print('intercept ', logit_reg.intercept_[0])\n",
        "print(pd.DataFrame({'coeff': logit_reg.coef_[0]}, index=X.columns).transpose())\n",
        "print()\n",
        "print('AIC', AIC_score(valid_y, logit_reg.predict(valid_X), df = len(train_X.columns) + 1))"
      ],
      "metadata": {
        "colab": {
          "base_uri": "https://localhost:8080/"
        },
        "id": "0pNXjw8NGhOh",
        "outputId": "7146775b-5c2e-4cae-f339-f4a02d361e9a"
      },
      "id": "0pNXjw8NGhOh",
      "execution_count": 22,
      "outputs": [
        {
          "output_type": "stream",
          "name": "stdout",
          "text": [
            "intercept  -12.493436061176814\n",
            "            Age  Experience    Income    Family     CCAvg  Mortgage  \\\n",
            "coeff -0.037685    0.039202  0.058844  0.612251  0.240489  0.001012   \n",
            "\n",
            "       Securities_Account  CD_Account    Online  CreditCard  Education_2  \\\n",
            "coeff            -1.01428    3.649097 -0.678306   -0.958283     4.202148   \n",
            "\n",
            "       Education_3  \n",
            "coeff     4.355761  \n",
            "\n",
            "AIC -709.1524769205962\n"
          ]
        }
      ]
    },
    {
      "cell_type": "code",
      "source": [
        "#Discussion Assignment #2 - sklearn LogisticRegression() liblinear solver\n",
        "bank_df = pd.read_csv(DATA / 'UniversalBank.csv')\n",
        "bank_df.drop(columns=['ID', 'ZIP Code'], inplace=True)\n",
        "bank_df.columns = [c.replace(' ', '_') for c in bank_df.columns]\n",
        "bank_df\n",
        "\n",
        "# Treat education as categorical, convert to dummy variables\n",
        "bank_df['Education'] = bank_df['Education'].astype('category')\n",
        "new_categories = {1: 'Undergrad', 2: 'Graduate', 3: 'Advanced/Professional'}\n",
        "bank_df.Education.cat.rename_categories(new_categories)\n",
        "\n",
        "bank_df = pd.get_dummies(bank_df, prefix_sep='_', drop_first=True, dtype=int)\n",
        "\n",
        "y = bank_df['Personal_Loan']\n",
        "X = bank_df.drop(columns=['Personal_Loan'])\n",
        "\n",
        "# partition data\n",
        "train_X, valid_X, train_y, valid_y = train_test_split(X, y, test_size=0.4, random_state=1)\n",
        "\n",
        "# fit a logistic regression (set penalty=l2 and C=1e42 to avoid regularization)\n",
        "# see https://scikit-learn.org/stable/modules/generated/sklearn.linear_model.LogisticRegression.html\n",
        "# see https://scikit-learn.org/stable/modules/linear_model.html#logistic-regression\n",
        "logit_reg = LogisticRegression(penalty=\"l2\", C=1e42, solver='liblinear', tol=1e-10)\n",
        "logit_reg.fit(train_X, train_y)\n",
        "\n",
        "print('intercept ', logit_reg.intercept_[0])\n",
        "print(pd.DataFrame({'coeff': logit_reg.coef_[0]}, index=X.columns).transpose())\n",
        "print()\n",
        "print('AIC', AIC_score(valid_y, logit_reg.predict(valid_X), df = len(train_X.columns) + 1))"
      ],
      "metadata": {
        "id": "r_6qFRA4Zrzm",
        "outputId": "8408a721-537f-4aa9-d4d3-5d3b51981216",
        "colab": {
          "base_uri": "https://localhost:8080/"
        }
      },
      "id": "r_6qFRA4Zrzm",
      "execution_count": 32,
      "outputs": [
        {
          "output_type": "stream",
          "name": "stdout",
          "text": [
            "intercept  -12.563385910114459\n",
            "            Age  Experience    Income    Family     CCAvg  Mortgage  \\\n",
            "coeff -0.035391    0.036947  0.058904  0.612778  0.240773  0.001014   \n",
            "\n",
            "       Securities_Account  CD_Account    Online  CreditCard  Education_2  \\\n",
            "coeff           -1.030501    3.662732 -0.679423   -0.960853     4.207628   \n",
            "\n",
            "       Education_3  \n",
            "coeff     4.358105  \n",
            "\n",
            "AIC -733.9975169177105\n"
          ]
        }
      ]
    },
    {
      "cell_type": "code",
      "source": [
        "#Discussion Assignment #3 - sklearn LogisticRegression() Default Solver 'lbfgs'\n",
        "bank_df = pd.read_csv(DATA / 'UniversalBank.csv')\n",
        "bank_df.drop(columns=['ID', 'ZIP Code'], inplace=True)\n",
        "bank_df.columns = [c.replace(' ', '_') for c in bank_df.columns]\n",
        "bank_df\n",
        "\n",
        "# Treat education as categorical, convert to dummy variables\n",
        "bank_df['Education'] = bank_df['Education'].astype('category')\n",
        "\n",
        "bank_df = pd.get_dummies(bank_df, prefix_sep='_', drop_first=True, dtype=int)\n",
        "\n",
        "y = bank_df['Personal_Loan']\n",
        "X = bank_df.drop(columns=['Personal_Loan'])\n",
        "\n",
        "# partition data\n",
        "train_X, valid_X, train_y, valid_y = train_test_split(X, y, test_size=0.4, random_state=1)\n",
        "\n",
        "logit_reg_default = LogisticRegression(penalty=None, solver='lbfgs', max_iter=10000)\n",
        "logit_reg_default.fit(train_X, train_y)\n",
        "print('intercept ', logit_reg_default.intercept_[0])\n",
        "print(pd.DataFrame({'coeff': logit_reg_default.coef_[0]}, index=X.columns).transpose())"
      ],
      "metadata": {
        "id": "eCV8IJaEbQAj",
        "outputId": "87c5caeb-4123-4ba9-ccb5-38573bfd2c8e",
        "colab": {
          "base_uri": "https://localhost:8080/"
        }
      },
      "id": "eCV8IJaEbQAj",
      "execution_count": 33,
      "outputs": [
        {
          "output_type": "stream",
          "name": "stdout",
          "text": [
            "intercept  -12.565721894981692\n",
            "           Age  Experience    Income    Family     CCAvg  Mortgage  \\\n",
            "coeff -0.03552     0.03707  0.058921  0.613629  0.240863  0.001012   \n",
            "\n",
            "       Securities_Account  CD_Account    Online  CreditCard  Education_2  \\\n",
            "coeff           -1.021516    3.673777 -0.681357    -0.95892     4.208849   \n",
            "\n",
            "       Education_3  \n",
            "coeff     4.356279  \n"
          ]
        }
      ]
    },
    {
      "cell_type": "code",
      "source": [
        "#Discussion Assignment #4 - sklearn LogisticRegression() Default Solver 'lbfgs' and tol parameter\n",
        "bank_df = pd.read_csv(DATA / 'UniversalBank.csv')\n",
        "bank_df.drop(columns=['ID', 'ZIP Code'], inplace=True)\n",
        "bank_df.columns = [c.replace(' ', '_') for c in bank_df.columns]\n",
        "bank_df\n",
        "\n",
        "# Treat education as categorical, convert to dummy variables\n",
        "bank_df['Education'] = bank_df['Education'].astype('category')\n",
        "\n",
        "bank_df = pd.get_dummies(bank_df, prefix_sep='_', drop_first=True, dtype=int)\n",
        "\n",
        "y = bank_df['Personal_Loan']\n",
        "X = bank_df.drop(columns=['Personal_Loan'])\n",
        "\n",
        "# partition data\n",
        "train_X, valid_X, train_y, valid_y = train_test_split(X, y, test_size=0.4, random_state=1)\n",
        "\n",
        "logit_reg_default = LogisticRegression(penalty=None, solver='lbfgs', tol=1e-28, max_iter=10000)\n",
        "logit_reg_default.fit(train_X, train_y)\n",
        "print('intercept ', logit_reg_default.intercept_[0])\n",
        "print(pd.DataFrame({'coeff': logit_reg_default.coef_[0]}, index=X.columns).transpose())\n"
      ],
      "metadata": {
        "id": "yMSN0JhLdRcZ",
        "outputId": "adccb973-3d37-4df6-8e90-3ba8d78f710b",
        "colab": {
          "base_uri": "https://localhost:8080/"
        }
      },
      "id": "yMSN0JhLdRcZ",
      "execution_count": 34,
      "outputs": [
        {
          "output_type": "stream",
          "name": "stdout",
          "text": [
            "intercept  -12.563228801220024\n",
            "            Age  Experience    Income    Family     CCAvg  Mortgage  \\\n",
            "coeff -0.035391    0.036948  0.058903  0.612773  0.240771  0.001014   \n",
            "\n",
            "       Securities_Account  CD_Account    Online  CreditCard  Education_2  \\\n",
            "coeff           -1.030563    3.662657 -0.679408   -0.960795     4.207529   \n",
            "\n",
            "       Education_3  \n",
            "coeff     4.358037  \n"
          ]
        }
      ]
    }
  ],
  "metadata": {
    "colab": {
      "provenance": [],
      "include_colab_link": true
    },
    "language_info": {
      "name": "python"
    },
    "kernelspec": {
      "name": "python3",
      "display_name": "Python 3"
    }
  },
  "nbformat": 4,
  "nbformat_minor": 5
}